{
 "cells": [
  {
   "source": [
    "# Let's Manipulate Image"
   ],
   "cell_type": "markdown",
   "metadata": {}
  },
  {
   "cell_type": "code",
   "execution_count": null,
   "metadata": {},
   "outputs": [],
   "source": [
    "from PLI import Image, ImageFilter\n",
    "\n",
    "with Image.open(\"imgs/minami.jpeg\") as img:\n",
    "    gray = img.convert(\"L\") # グレースケール変換\n",
    "    edge = gray.filter(ImageFilter.FIND_EDGES)\n",
    "    edge.show()"
   ]
  }
 ],
 "metadata": {
  "kernelspec": {
   "name": "python3",
   "display_name": "Python 3.9.5 64-bit"
  },
  "interpreter": {
   "hash": "aee8b7b246df8f9039afb4144a1f6fd8d2ca17a180786b69acc140d282b71a49"
  }
 },
 "nbformat": 4,
 "nbformat_minor": 4
}